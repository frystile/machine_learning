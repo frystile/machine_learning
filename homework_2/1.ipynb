{
 "cells": [
  {
   "cell_type": "markdown",
   "metadata": {},
   "source": [
    "# 1.1\n",
    "\n",
    "Обозначим через $y$ реальное значение на поступившем объекте, а $y_i$, $i \\in \\{1,..,l\\}$ - значения на объектах обучающей выборки, попавших один лист с $y$.\n",
    "\n",
    "Посчитаем матожидание ошибки в первом случае:\n",
    "\n",
    "$$E(MSE_1) = E\\Bigl(y-\\frac{1}{l}\\sum\\limits_{i=1}^l y_i\\Bigr)^2 =\n",
    "Ey^2 - 2\\cdot Ey\\cdot E\\Bigl(\\frac{1}{l}\\sum\\limits_{i=1}^l y_i\\Bigr)+E\\Bigl(\\frac{1}{l}\\sum\\limits_{i=1}^l y_i\\Bigr)^2$$\n",
    "\n",
    "Ясно, что $\\forall i\\in\\{1,..,l\\} Ey_i=Ey_1$. Поэтому\n",
    "\n",
    "$$E(MSE_1)= Ey^2 - 2\\cdot Ey\\cdot Ey_1+\\frac{1}{l^2}E\\Bigl(\\sum\\limits_{i=1}^l y_i\\Bigr)^2=\n",
    "Ey^2 - 2\\cdot Ey\\cdot Ey_1+\\frac{1}{l} Ey_1^2 + \\frac{1}{l^2}l(l-1)(Ey_1)^2=\n",
    "Ey^2 - 2\\cdot Ey\\cdot Ey_1+\\frac{1}{l} Ey_1^2 + (1-\\frac{1}{l})(Ey_1)^2$$\n",
    "\n",
    "Во стором случае\n",
    "\n",
    "$$E(MSE_2) = E(y-y_i)^2 = Ey^2 - 2\\cdot Ey\\cdot Ey_1 + Ey_1^2$$\n",
    "\n",
    "Теперь сравним результаты:\n",
    "\n",
    "$$E(MSE_1) - E(MSE_2) = Ey^2 - 2\\cdot Ey\\cdot Ey_1+\\frac{1}{l} Ey_1^2 + (1-\\frac{1}{l})(Ey_1)^2 - Ey^2 + 2\\cdot Ey\\cdot Ey_1 - Ey_1^2=(\\frac{1}{l}-1)Dy_1 < 0$$\n",
    "\n",
    "Получилось, что лучше отвечать средним."
   ]
  },
  {
   "cell_type": "markdown",
   "metadata": {
    "collapsed": true
   },
   "source": [
    "# 1.3\n",
    "\n",
    "Плотность многомерного нормального распределения имеет вид\n",
    "$$p(x) = \\frac {1}{(2 \\cdot \\pi)^{\\frac {n}{2}} \\cdot \\sqrt[2]{|\\Sigma|}} \\cdot \\exp\\Bigl(-\\frac {1}{2} \\cdot (x - \\mu)^T \\cdot \\Sigma^{-1} \\cdot (x-\\mu)\\Bigr),$$ где $\\mu$ - ветор матожиданий, а $\\Sigma$ - матрица ковариаций.\n",
    "\n",
    "$$\n",
    "H(p) = - \\idotsint\\limits_{R^n} p(x) \\cdot \\ln p(x) dx =\n",
    "$$\n",
    "$$\n",
    "= \\idotsint\\limits_{R^n} p(x) \\cdot \\left( \\frac{1}{2}\\cdot (x-\\mu)^T\\cdot \\Sigma^{-1}\\cdot (x-\\mu) + \\ln((2\\cdot \\pi)^{\\frac{n}{2}} \\cdot \\sqrt[2]{|\\Sigma|}) \\right) dx =\n",
    "$$\n",
    "$$\n",
    "=\\frac{1}{2}\\cdot E\\left( \\sum\\limits_{i, j} (x_i - \\mu_i) \\cdot (\\Sigma^{-1})_{i, j} \\cdot (x_j - \\mu_j) \\right) + \\frac{1}{2} \\cdot \\ln((2\\cdot \\pi)^{n} \\cdot |\\Sigma|) = \n",
    "$$\n",
    "$$\n",
    "= \\frac{1}{2}\\cdot \\sum\\limits_{i, j} \\left( E((x_i - \\mu_i) \\cdot (\\Sigma^{-1})_{i, j} \\cdot (x_j - \\mu_j)) \\right) + \\frac{1}{2} \\cdot \\ln((2\\cdot \\pi)^{n} \\cdot |\\Sigma|) =\n",
    "$$\n",
    "$$\n",
    "=\\frac{1}{2}\\cdot \\sum\\limits_i \\sum\\limits_j (\\Sigma)_{i, j} \\cdot (\\Sigma^{-1})_{i, j} + \\frac{1}{2} \\cdot \\ln((2\\cdot \\pi)^{n} \\cdot |\\Sigma|) =\n",
    "$$\n",
    "$$\n",
    "=\\frac{1}{2}\\cdot \\sum_i (\\Sigma \\cdot \\Sigma^{-1})_{i, i} + \\frac{1}{2} \\cdot \\ln((2\\cdot \\pi)^{n} \\cdot |\\Sigma|) =\n",
    "$$\n",
    "$$\n",
    "=\\frac{1}{2}\\cdot \\sum_i (E)_{i, i} + \\frac{1}{2} \\cdot \\ln((2\\cdot \\pi)^{n} \\cdot |\\Sigma|) =\n",
    "$$\n",
    "$$\n",
    "=\\frac{n}{2} + \\frac{1}{2} \\cdot \\ln((2\\cdot \\pi)^{n} \\cdot |\\Sigma|) =\n",
    "$$\n",
    "$$\n",
    "=\\frac{1}{2}\\cdot\\ln((2\\cdot \\pi \\cdot e)^{n} \\cdot |\\Sigma|)\n",
    "$$\n",
    "\n",
    "Что и требовалось доказать."
   ]
  }
 ],
 "metadata": {
  "kernelspec": {
   "display_name": "Python 2",
   "language": "python",
   "name": "python2"
  },
  "language_info": {
   "codemirror_mode": {
    "name": "ipython",
    "version": 2
   },
   "file_extension": ".py",
   "mimetype": "text/x-python",
   "name": "python",
   "nbconvert_exporter": "python",
   "pygments_lexer": "ipython2",
   "version": "2.7.12"
  }
 },
 "nbformat": 4,
 "nbformat_minor": 2
}
