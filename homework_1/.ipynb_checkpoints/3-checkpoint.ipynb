{
 "cells": [
  {
   "cell_type": "code",
   "execution_count": 1,
   "metadata": {},
   "outputs": [],
   "source": [
    "import numpy\n",
    "from scipy import stats\n",
    "from scipy.optimize import minimize\n",
    "from matplotlib import pyplot as plot\n",
    "%matplotlib inline"
   ]
  },
  {
   "cell_type": "code",
   "execution_count": 2,
   "metadata": {},
   "outputs": [],
   "source": [
    "# Генерируем выборку\n",
    "\n",
    "N = 500\n",
    "\n",
    "def real_f(x):\n",
    "    return 0.5 * x  + 1\n",
    "\n",
    "def f(params, x):\n",
    "    return params[0] * x + params[1]\n",
    "\n",
    "sample = numpy.array(\n",
    "    [(x, real_f(x) + error) for x, error in zip(\n",
    "            numpy.linspace(0, 20, N), stats.norm.rvs(0, scale=numpy.sqrt(0.2), size=N)\n",
    "    )]\n",
    ")"
   ]
  },
  {
   "cell_type": "code",
   "execution_count": 3,
   "metadata": {},
   "outputs": [],
   "source": [
    "# Определяем функции ошибок\n",
    "\n",
    "def MSE(params, sample):\n",
    "    return numpy.sum(\n",
    "        numpy.array(\n",
    "            [(params[0] * x + params[1] - y) ** 2 for x, y in zip(sample[:,0], sample[:,1])]\n",
    "        )\n",
    "    )\n",
    "\n",
    "def MAE(params, sample):\n",
    "    return numpy.sum(\n",
    "        numpy.array(\n",
    "            [numpy.absolute(params[0] * x + params[1] - y) for x, y in zip(sample[:,0], sample[:,1])]\n",
    "        )\n",
    "    )\n",
    "\n",
    "params_0 = [0, 0]\n",
    "mse_res = minimize(MSE, params_0, args=sample)\n",
    "mae_res = minimize(MAE, params_0, args=sample)"
   ]
  },
  {
   "cell_type": "code",
   "execution_count": 4,
   "metadata": {},
   "outputs": [
    {
     "data": {
      "text/plain": [
       "      fun: 97.17795962166917\n",
       " hess_inv: array([[  2.98802451e-05,  -2.98802467e-04],\n",
       "       [ -2.98802467e-04,   3.98802487e-03]])\n",
       "      jac: array([  9.53674316e-07,  -2.86102295e-06])\n",
       "  message: 'Optimization terminated successfully.'\n",
       "     nfev: 36\n",
       "      nit: 6\n",
       "     njev: 9\n",
       "   status: 0\n",
       "  success: True\n",
       "        x: array([ 0.49387809,  1.06938906])"
      ]
     },
     "execution_count": 4,
     "metadata": {},
     "output_type": "execute_result"
    }
   ],
   "source": [
    "mse_res"
   ]
  },
  {
   "cell_type": "code",
   "execution_count": 5,
   "metadata": {},
   "outputs": [
    {
     "data": {
      "text/plain": [
       "      fun: 172.16127446883493\n",
       " hess_inv: array([[ 0.00011395, -0.00011395],\n",
       "       [-0.00011395,  0.00011395]])\n",
       "      jac: array([ 1.02133751,  0.        ])\n",
       "  message: 'Desired error not necessarily achieved due to precision loss.'\n",
       "     nfev: 1084\n",
       "      nit: 13\n",
       "     njev: 268\n",
       "   status: 2\n",
       "  success: False\n",
       "        x: array([ 0.49554046,  1.05009394])"
      ]
     },
     "execution_count": 5,
     "metadata": {},
     "output_type": "execute_result"
    }
   ],
   "source": [
    "mae_res"
   ]
  },
  {
   "cell_type": "code",
   "execution_count": 6,
   "metadata": {},
   "outputs": [
    {
     "data": {
      "text/plain": [
       "<matplotlib.legend.Legend at 0x7fe5dcd755d0>"
      ]
     },
     "execution_count": 6,
     "metadata": {},
     "output_type": "execute_result"
    },
    {
     "data": {
      "image/png": "[encoded data removed]",
      "text/plain": [
       "<matplotlib.figure.Figure at 0x7fe5dee522d0>"
      ]
     },
     "metadata": {},
     "output_type": "display_data"
    }
   ],
   "source": [
    "plot.scatter(sample[:,0], sample[:,1])\n",
    "plot.plot([0, 20], [f(mse_res['x'], 0), f(mse_res['x'], 20)], color=\"red\", label=\"MSE\")\n",
    "plot.plot([0, 20], [f(mae_res['x'], 0), f(mae_res['x'], 20)], color=\"green\", label=\"MAE\")\n",
    "axis = plot.gca()\n",
    "axis.legend()"
   ]
  },
  {
   "cell_type": "markdown",
   "metadata": {},
   "source": [
    "Результат работы двух методов почти совпал"
   ]
  },
  {
   "cell_type": "code",
   "execution_count": 7,
   "metadata": {},
   "outputs": [],
   "source": [
    "# Добавляем в выборку выбросы\n",
    "\n",
    "bad_sample = [(x, y) for x, y in sample]\n",
    "bad_sample.extend(\n",
    "    (x, -1 + error)\n",
    "    for x, error in zip(numpy.linspace(0, 20, 75), stats.norm.rvs(0, scale=numpy.sqrt(0.2), size=75))\n",
    ")\n",
    "bad_sample = numpy.array(bad_sample)"
   ]
  },
  {
   "cell_type": "code",
   "execution_count": 8,
   "metadata": {},
   "outputs": [],
   "source": [
    "bad_mse_res = minimize(MSE, params_0, args=bad_sample)\n",
    "bad_mae_res = minimize(MAE, params_0, args=bad_sample)"
   ]
  },
  {
   "cell_type": "code",
   "execution_count": 9,
   "metadata": {},
   "outputs": [
    {
     "data": {
      "text/plain": [
       "      fun: 3895.2670746567323\n",
       " hess_inv: array([[  7.94274839e-06,  -7.94275203e-06],\n",
       "       [ -7.94275203e-06,   7.94279568e-06]])\n",
       "      jac: array([  3.05175781e-05,   0.00000000e+00])\n",
       "  message: 'Desired error not necessarily achieved due to precision loss.'\n",
       "     nfev: 69\n",
       "      nit: 5\n",
       "     njev: 17\n",
       "   status: 2\n",
       "  success: False\n",
       "        x: array([ 0.4277467 ,  0.81258025])"
      ]
     },
     "execution_count": 9,
     "metadata": {},
     "output_type": "execute_result"
    }
   ],
   "source": [
    "bad_mse_res"
   ]
  },
  {
   "cell_type": "code",
   "execution_count": 10,
   "metadata": {},
   "outputs": [
    {
     "data": {
      "text/plain": [
       "      fun: 696.6166589947981\n",
       " hess_inv: array([[  5.54708759e-09,   5.77216729e-08],\n",
       "       [  5.77216729e-08,   3.09571045e-06]])\n",
       "      jac: array([-6.07214355,  1.        ])\n",
       "  message: 'Desired error not necessarily achieved due to precision loss.'\n",
       "     nfev: 419\n",
       "      nit: 13\n",
       "     njev: 102\n",
       "   status: 2\n",
       "  success: False\n",
       "        x: array([ 0.49194923,  1.00355847])"
      ]
     },
     "execution_count": 10,
     "metadata": {},
     "output_type": "execute_result"
    }
   ],
   "source": [
    "bad_mae_res"
   ]
  },
  {
   "cell_type": "code",
   "execution_count": 11,
   "metadata": {},
   "outputs": [
    {
     "data": {
      "text/plain": [
       "<matplotlib.legend.Legend at 0x7fe5dccc5990>"
      ]
     },
     "execution_count": 11,
     "metadata": {},
     "output_type": "execute_result"
    },
    {
     "data": {
      "image/png": "[encoded data removed]",
      "text/plain": [
       "<matplotlib.figure.Figure at 0x7fe5dcdc0150>"
      ]
     },
     "metadata": {},
     "output_type": "display_data"
    }
   ],
   "source": [
    "# Снова визуализируем и делаем вывод об устойчивости методов к выбросам\n",
    "\n",
    "plot.scatter(bad_sample[:,0], bad_sample[:,1])\n",
    "plot.plot([0, 20], [f(bad_mse_res['x'], 0), f(bad_mse_res['x'], 20)], color=\"red\", label=\"MSE\")\n",
    "plot.plot([0, 20], [f(bad_mae_res['x'], 0), f(bad_mae_res['x'], 20)], color=\"green\", label=\"MAE\")\n",
    "axis = plot.gca()\n",
    "axis.legend()"
   ]
  },
  {
   "cell_type": "markdown",
   "metadata": {},
   "source": [
    "Очевидно, MAE намного устойчивее к выбросам, чем  MSE,т.к. MSE за выброс штрафует сильнее."
   ]
  },
  {
   "cell_type": "code",
   "execution_count": null,
   "metadata": {},
   "outputs": [],
   "source": []
  }
 ],
 "metadata": {
  "kernelspec": {
   "display_name": "Python 2",
   "language": "python",
   "name": "python2"
  },
  "language_info": {
   "codemirror_mode": {
    "name": "ipython",
    "version": 2
   },
   "file_extension": ".py",
   "mimetype": "text/x-python",
   "name": "python",
   "nbconvert_exporter": "python",
   "pygments_lexer": "ipython2",
   "version": "2.7.12"
  }
 },
 "nbformat": 4,
 "nbformat_minor": 2
}
