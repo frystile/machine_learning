{
 "cells": [
  {
   "cell_type": "markdown",
   "metadata": {},
   "source": [
    "# 4.1"
   ]
  },
  {
   "cell_type": "markdown",
   "metadata": {},
   "source": [
    "В случае совпадения априорных плотностей\n",
    "\n",
    "$$\\hat y=\\underset{y}{\\operatorname{argmax}} P(X|y)$$\n",
    "\n",
    "$$P(X|y)=\\prod\\limits_{k=1}^{n}\\Biggl(\\frac{1}{\\sqrt{2\\pi\\sigma^2}}\\exp(-\\frac{(x^{(k)-\\mu_{yk}})^2}{2\\sigma^2})\\Biggr)\\propto\\exp(-\\sum\\limits_{k=1}^{n}(x^{(k)}-\\mu_{yk})^2)$$\n",
    "\n",
    "Для максимизации этой экспоненты нужно минимизировать $\\sum\\limits_{k=1}^{n}(x^{(k)}-\\mu_{yk})^2$. Что означает, что $\\hat y$ это ближайшее к $\\mu_{y}$ в смысле евклдового расстояния значение класса. Что и требовалось доказать."
   ]
  },
  {
   "cell_type": "markdown",
   "metadata": {},
   "source": [
    "# 4.2"
   ]
  },
  {
   "cell_type": "markdown",
   "metadata": {},
   "source": [
    "Точка излома на графике ROC кривой имеет координаты $(FPR, TPR)$. Обозначим площадь под кривой $S$.\n",
    "\n",
    "$$S=\\frac{TPR+1}{2}(1-FPR)+\\frac{1}{2}(FPR)(TPR)$$\n",
    "\n",
    "Посчитаем E(S). Пусть $N_1$ - число объектов класса $1$, а $N_0$ - число объектов класса $0$. Тогда\n",
    "\n",
    "$$E(TPR)=\\frac{TP}{TP+FN}=\\frac{E(TP)}{N_1}=\\frac{E(\\sum\\limits_{x:y_x=1}I\\{a(x)=1\\})}{N_1}=\\frac{N_1\\cdot p}{N_1}=p$$\n",
    "\n",
    "$$E(FPR)=\\frac{FP}{FP+TN}=\\frac{E(FP)}{N_0}=\\frac{E(\\sum\\limits_{x:y_x=0}I\\{a(x)=1\\})}{N_0}=\\frac{N_0\\cdot p}{N_0}=p$$\n",
    "\n",
    "Следовательно,\n",
    "\n",
    "$$E(S)=\\frac{(p+1)(1-p)}{2}+\\frac{1}{2}p^2=\\frac{1}{2}(p^2-p^2+1)=\\frac{1}{2}$$\n",
    "\n",
    "Что и требовалось доказать."
   ]
  },
  {
   "cell_type": "markdown",
   "metadata": {},
   "source": [
    "# 4.3"
   ]
  },
  {
   "cell_type": "markdown",
   "metadata": {},
   "source": [
    "Оценим $P(y \\neq y_n)$.\n",
    "\n",
    "Ошибка метода $1NN$ произойдет в случае, если будет выдан ответ $1$ на объекте $x$ и $0$ на объекте $x_n$ или наоборот. Т.е.\n",
    "\n",
    "$$E_N = P(y \\neq y_n) = P(1|x)P(0|x_n) + P(1|x_n)P(0|x)$$\n",
    "\n",
    "Осуществляя предельный переход по $n$ всилу непрерывности условных вероятностей, полуим\n",
    "\n",
    "$$E_N = 2P(1|x)P(0|x) = 2E_B(1-E_B) = 2E_B-2E_B^2 \\le 2E_B$$\n",
    "\n",
    "Что и требовалось доказать"
   ]
  }
 ],
 "metadata": {
  "kernelspec": {
   "display_name": "Python 2",
   "language": "python",
   "name": "python2"
  },
  "language_info": {
   "codemirror_mode": {
    "name": "ipython",
    "version": 2
   },
   "file_extension": ".py",
   "mimetype": "text/x-python",
   "name": "python",
   "nbconvert_exporter": "python",
   "pygments_lexer": "ipython2",
   "version": "2.7.12"
  }
 },
 "nbformat": 4,
 "nbformat_minor": 2
}
